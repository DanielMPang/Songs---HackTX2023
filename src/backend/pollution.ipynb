{
 "cells": [
  {
   "cell_type": "code",
   "execution_count": 1,
   "metadata": {},
   "outputs": [],
   "source": [
    "import pandas as pd"
   ]
  },
  {
   "cell_type": "code",
   "execution_count": 2,
   "metadata": {},
   "outputs": [
    {
     "name": "stdout",
     "output_type": "stream",
     "text": [
      "           Country ISO 3166-1 alpha-3  Year         Total          Coal  \\\n",
      "0      Afghanistan                AFG  1750      0.000000           NaN   \n",
      "1      Afghanistan                AFG  1751      0.000000           NaN   \n",
      "2      Afghanistan                AFG  1752      0.000000           NaN   \n",
      "3      Afghanistan                AFG  1753      0.000000           NaN   \n",
      "4      Afghanistan                AFG  1754      0.000000           NaN   \n",
      "...            ...                ...   ...           ...           ...   \n",
      "63099       Global                WLD  2017  36096.739276  14506.973805   \n",
      "63100       Global                WLD  2018  36826.506600  14746.830688   \n",
      "63101       Global                WLD  2019  37082.558969  14725.978025   \n",
      "63102       Global                WLD  2020  35264.085734  14174.564010   \n",
      "63103       Global                WLD  2021  37123.850352  14979.598083   \n",
      "\n",
      "                Oil          Gas       Cement     Flaring       Other  \\\n",
      "0               NaN          NaN          NaN         NaN         NaN   \n",
      "1               NaN          NaN          NaN         NaN         NaN   \n",
      "2               NaN          NaN          NaN         NaN         NaN   \n",
      "3               NaN          NaN          NaN         NaN         NaN   \n",
      "4               NaN          NaN          NaN         NaN         NaN   \n",
      "...             ...          ...          ...         ...         ...   \n",
      "63099  12242.627935  7144.928128  1507.923185  391.992176  302.294047   \n",
      "63100  12266.016285  7529.846784  1569.218392  412.115746  302.478706   \n",
      "63101  12345.653374  7647.528220  1617.506786  439.253991  306.638573   \n",
      "63102  11191.808551  7556.290283  1637.537532  407.583673  296.301685   \n",
      "63103  11837.159116  7921.829472  1672.592372  416.525563  296.145746   \n",
      "\n",
      "       Per Capita  \n",
      "0             NaN  \n",
      "1             NaN  \n",
      "2             NaN  \n",
      "3             NaN  \n",
      "4             NaN  \n",
      "...           ...  \n",
      "63099    4.749682  \n",
      "63100    4.792753  \n",
      "63101    4.775633  \n",
      "63102    4.497423  \n",
      "63103    4.693699  \n",
      "\n",
      "[63104 rows x 11 columns]\n"
     ]
    }
   ],
   "source": [
    "pollution = pd.read_csv(\"../data/GCB2022v27_MtCO2_flat.csv\")\n",
    "print(pollution)"
   ]
  },
  {
   "cell_type": "code",
   "execution_count": 3,
   "metadata": {},
   "outputs": [
    {
     "name": "stdout",
     "output_type": "stream",
     "text": [
      "           Country ISO 3166-1 alpha-3  Year         Total          Coal  \\\n",
      "150    Afghanistan                AFG  1900      0.000000           NaN   \n",
      "151    Afghanistan                AFG  1901      0.000000           NaN   \n",
      "152    Afghanistan                AFG  1902      0.000000           NaN   \n",
      "153    Afghanistan                AFG  1903      0.000000           NaN   \n",
      "154    Afghanistan                AFG  1904      0.000000           NaN   \n",
      "...            ...                ...   ...           ...           ...   \n",
      "63099       Global                WLD  2017  36096.739276  14506.973805   \n",
      "63100       Global                WLD  2018  36826.506600  14746.830688   \n",
      "63101       Global                WLD  2019  37082.558969  14725.978025   \n",
      "63102       Global                WLD  2020  35264.085734  14174.564010   \n",
      "63103       Global                WLD  2021  37123.850352  14979.598083   \n",
      "\n",
      "                Oil          Gas       Cement     Flaring       Other  \\\n",
      "150             NaN          NaN          NaN         NaN         NaN   \n",
      "151             NaN          NaN          NaN         NaN         NaN   \n",
      "152             NaN          NaN          NaN         NaN         NaN   \n",
      "153             NaN          NaN          NaN         NaN         NaN   \n",
      "154             NaN          NaN          NaN         NaN         NaN   \n",
      "...             ...          ...          ...         ...         ...   \n",
      "63099  12242.627935  7144.928128  1507.923185  391.992176  302.294047   \n",
      "63100  12266.016285  7529.846784  1569.218392  412.115746  302.478706   \n",
      "63101  12345.653374  7647.528220  1617.506786  439.253991  306.638573   \n",
      "63102  11191.808551  7556.290283  1637.537532  407.583673  296.301685   \n",
      "63103  11837.159116  7921.829472  1672.592372  416.525563  296.145746   \n",
      "\n",
      "       Per Capita  \n",
      "150           NaN  \n",
      "151           NaN  \n",
      "152           NaN  \n",
      "153           NaN  \n",
      "154           NaN  \n",
      "...           ...  \n",
      "63099    4.749682  \n",
      "63100    4.792753  \n",
      "63101    4.775633  \n",
      "63102    4.497423  \n",
      "63103    4.693699  \n",
      "\n",
      "[28304 rows x 11 columns]\n"
     ]
    }
   ],
   "source": [
    "pollution = pollution[pollution[\"Year\"] >= 1900]\n",
    "print(pollution)\n",
    "pollution.to_csv(\"../data/CO2_Emissions.csv\", index = False)"
   ]
  }
 ],
 "metadata": {
  "kernelspec": {
   "display_name": "Python 3",
   "language": "python",
   "name": "python3"
  },
  "language_info": {
   "codemirror_mode": {
    "name": "ipython",
    "version": 3
   },
   "file_extension": ".py",
   "mimetype": "text/x-python",
   "name": "python",
   "nbconvert_exporter": "python",
   "pygments_lexer": "ipython3",
   "version": "3.12.0"
  }
 },
 "nbformat": 4,
 "nbformat_minor": 2
}
