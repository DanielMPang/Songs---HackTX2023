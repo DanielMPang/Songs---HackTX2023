{
 "cells": [
  {
   "cell_type": "code",
   "execution_count": 4,
   "metadata": {},
   "outputs": [],
   "source": [
    "import pandas as pd"
   ]
  },
  {
   "cell_type": "code",
   "execution_count": 5,
   "metadata": {},
   "outputs": [
    {
     "name": "stdout",
     "output_type": "stream",
     "text": [
      "     Rank CCA3  Country/Territory           Capital Continent  \\\n",
      "0      36  AFG        Afghanistan             Kabul      Asia   \n",
      "1     138  ALB            Albania            Tirana    Europe   \n",
      "2      34  DZA            Algeria           Algiers    Africa   \n",
      "3     213  ASM     American Samoa         Pago Pago   Oceania   \n",
      "4     203  AND            Andorra  Andorra la Vella    Europe   \n",
      "..    ...  ...                ...               ...       ...   \n",
      "229   226  WLF  Wallis and Futuna          Mata-Utu   Oceania   \n",
      "230   172  ESH     Western Sahara          El Aaiún    Africa   \n",
      "231    46  YEM              Yemen             Sanaa      Asia   \n",
      "232    63  ZMB             Zambia            Lusaka    Africa   \n",
      "233    74  ZWE           Zimbabwe            Harare    Africa   \n",
      "\n",
      "     2022 Population  2020 Population  2015 Population  2010 Population  \\\n",
      "0           41128771         38972230         33753499         28189672   \n",
      "1            2842321          2866849          2882481          2913399   \n",
      "2           44903225         43451666         39543154         35856344   \n",
      "3              44273            46189            51368            54849   \n",
      "4              79824            77700            71746            71519   \n",
      "..               ...              ...              ...              ...   \n",
      "229            11572            11655            12182            13142   \n",
      "230           575986           556048           491824           413296   \n",
      "231         33696614         32284046         28516545         24743946   \n",
      "232         20017675         18927715         16248230         13792086   \n",
      "233         16320537         15669666         14154937         12839771   \n",
      "\n",
      "     2000 Population  1990 Population  1980 Population  1970 Population  \\\n",
      "0           19542982         10694796         12486631         10752971   \n",
      "1            3182021          3295066          2941651          2324731   \n",
      "2           30774621         25518074         18739378         13795915   \n",
      "3              58230            47818            32886            27075   \n",
      "4              66097            53569            35611            19860   \n",
      "..               ...              ...              ...              ...   \n",
      "229            14723            13454            11315             9377   \n",
      "230           270375           178529           116775            76371   \n",
      "231         18628700         13375121          9204938          6843607   \n",
      "232          9891136          7686401          5720438          4281671   \n",
      "233         11834676         10113893          7049926          5202918   \n",
      "\n",
      "     Area (km²)  Density (per km²)  Growth Rate  World Population Percentage  \n",
      "0        652230            63.0587       1.0257                         0.52  \n",
      "1         28748            98.8702       0.9957                         0.04  \n",
      "2       2381741            18.8531       1.0164                         0.56  \n",
      "3           199           222.4774       0.9831                         0.00  \n",
      "4           468           170.5641       1.0100                         0.00  \n",
      "..          ...                ...          ...                          ...  \n",
      "229         142            81.4930       0.9953                         0.00  \n",
      "230      266000             2.1654       1.0184                         0.01  \n",
      "231      527968            63.8232       1.0217                         0.42  \n",
      "232      752612            26.5976       1.0280                         0.25  \n",
      "233      390757            41.7665       1.0204                         0.20  \n",
      "\n",
      "[234 rows x 17 columns]\n"
     ]
    }
   ],
   "source": [
    "population = pd.read_csv(\"../data/world_population.csv\")\n",
    "print(population)"
   ]
  },
  {
   "cell_type": "code",
   "execution_count": 6,
   "metadata": {},
   "outputs": [
    {
     "name": "stdout",
     "output_type": "stream",
     "text": [
      "     Rank  Country/Territory Continent  2020 Population  Area (km²)  \\\n",
      "0      36        Afghanistan      Asia         38972230      652230   \n",
      "1     138            Albania    Europe          2866849       28748   \n",
      "2      34            Algeria    Africa         43451666     2381741   \n",
      "3     213     American Samoa   Oceania            46189         199   \n",
      "4     203            Andorra    Europe            77700         468   \n",
      "..    ...                ...       ...              ...         ...   \n",
      "229   226  Wallis and Futuna   Oceania            11655         142   \n",
      "230   172     Western Sahara    Africa           556048      266000   \n",
      "231    46              Yemen      Asia         32284046      527968   \n",
      "232    63             Zambia    Africa         18927715      752612   \n",
      "233    74           Zimbabwe    Africa         15669666      390757   \n",
      "\n",
      "     Density (per km²)  World Population Percentage  \n",
      "0              63.0587                         0.52  \n",
      "1              98.8702                         0.04  \n",
      "2              18.8531                         0.56  \n",
      "3             222.4774                         0.00  \n",
      "4             170.5641                         0.00  \n",
      "..                 ...                          ...  \n",
      "229            81.4930                         0.00  \n",
      "230             2.1654                         0.01  \n",
      "231            63.8232                         0.42  \n",
      "232            26.5976                         0.25  \n",
      "233            41.7665                         0.20  \n",
      "\n",
      "[234 rows x 7 columns]\n"
     ]
    }
   ],
   "source": [
    "columns_to_remove = [\"CCA3\",\"Capital\",\"2022 Population\",\"2015 Population\",\"2010 Population\",\"2000 Population\",\"1990 Population\",\"1980 Population\",\"1970 Population\",\"Growth Rate\"]\n",
    "population.drop(columns_to_remove, axis=1, inplace=True)\n",
    "print(population)\n",
    "population.to_csv(\"../data/2020Population.csv\", index = False)"
   ]
  },
  {
   "cell_type": "code",
   "execution_count": 7,
   "metadata": {},
   "outputs": [
    {
     "name": "stdout",
     "output_type": "stream",
     "text": [
      "0\n"
     ]
    }
   ],
   "source": [
    "count_na = population.isna().sum().sum()\n",
    "print(count_na)"
   ]
  }
 ],
 "metadata": {
  "kernelspec": {
   "display_name": "Python 3",
   "language": "python",
   "name": "python3"
  },
  "language_info": {
   "codemirror_mode": {
    "name": "ipython",
    "version": 3
   },
   "file_extension": ".py",
   "mimetype": "text/x-python",
   "name": "python",
   "nbconvert_exporter": "python",
   "pygments_lexer": "ipython3",
   "version": "3.12.0"
  }
 },
 "nbformat": 4,
 "nbformat_minor": 2
}
