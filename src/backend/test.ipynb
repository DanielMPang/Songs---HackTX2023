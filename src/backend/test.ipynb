{
 "cells": [
  {
   "cell_type": "code",
   "execution_count": 12,
   "metadata": {},
   "outputs": [],
   "source": [
    "import pandas as pd"
   ]
  },
  {
   "cell_type": "code",
   "execution_count": 13,
   "metadata": {},
   "outputs": [],
   "source": [
    "df_rain = pd.read_csv(\"../data/Rainfall_Temp_Data.csv\")\n",
    "# print(df_rain)"
   ]
  },
  {
   "cell_type": "code",
   "execution_count": 14,
   "metadata": {},
   "outputs": [
    {
     "name": "stdout",
     "output_type": "stream",
     "text": [
      "             STATION Country/Region       DATE  PRCP  TAVG  TMAX  TMIN\n",
      "0        TZ000063894        Comoros  1/22/2020  10.9  27.6  30.2  24.9\n",
      "1        TZ000063894        Comoros  1/23/2020   0.0  26.7   NaN   NaN\n",
      "2        TZ000063894        Comoros  1/24/2020   9.4  27.9  30.6  25.6\n",
      "3        TZ000063894        Comoros  1/25/2020   0.3  27.9  30.2  16.3\n",
      "4        TZ000063894        Comoros  1/26/2020   0.0  28.2  31.5   NaN\n",
      "...              ...            ...        ...   ...   ...   ...   ...\n",
      "1048570  CA003060330         Canada  7/25/2020   4.8  15.9  22.3   9.5\n",
      "1048571  CA006110607         Canada  7/25/2020   0.0  18.7  26.8  10.7\n",
      "1048572  CA007015791         Canada  7/25/2020   2.0  17.3  23.4  11.3\n",
      "1048573  CA001086558         Canada  7/25/2020   0.0  12.4  25.0  -0.2\n",
      "1048574  CA001100875         Canada  7/25/2020   0.0  17.5  24.8  10.1\n",
      "\n",
      "[1048575 rows x 7 columns]\n"
     ]
    }
   ],
   "source": [
    "columns_to_remove = [\"Year\",\"Month\",\"Day\"]\n",
    "df_rain.drop(columns_to_remove, axis=1, inplace=True)\n",
    "print(df_rain)\n",
    "df_rain.to_csv(\"../data/Rainfall_Temp_Data.csv\",index=False)"
   ]
  },
  {
   "cell_type": "code",
   "execution_count": 15,
   "metadata": {},
   "outputs": [],
   "source": [
    "columns_to_remove1 = [\"STATION\",\"DATE\",\"TAVG\",\"TMAX\",\"TMIN\"]\n",
    "df_only_rain = df_rain\n",
    "df_only_rain.drop(columns_to_remove1, axis=1, inplace=True)\n",
    "summed_df_only_rain = df_only_rain.groupby(\"Country/Region\")[\"PRCP\"].sum().reset_index()"
   ]
  },
  {
   "cell_type": "code",
   "execution_count": 16,
   "metadata": {},
   "outputs": [
    {
     "name": "stdout",
     "output_type": "stream",
     "text": [
      "         Country/Region    PRCP\n",
      "0           Afghanistan   31.83\n",
      "1               Albania    0.00\n",
      "2               Algeria  183.56\n",
      "3               Andorra   57.18\n",
      "4                Angola   11.10\n",
      "..                  ...     ...\n",
      "150           Venezuela    0.00\n",
      "151  West Bank and Gaza  195.50\n",
      "152      Western Sahara    1.10\n",
      "153              Zambia    1.00\n",
      "154            Zimbabwe   15.90\n",
      "\n",
      "[155 rows x 2 columns]\n"
     ]
    }
   ],
   "source": [
    "print(summed_df_only_rain)"
   ]
  }
 ],
 "metadata": {
  "kernelspec": {
   "display_name": "Python 3",
   "language": "python",
   "name": "python3"
  },
  "language_info": {
   "codemirror_mode": {
    "name": "ipython",
    "version": 3
   },
   "file_extension": ".py",
   "mimetype": "text/x-python",
   "name": "python",
   "nbconvert_exporter": "python",
   "pygments_lexer": "ipython3",
   "version": "3.12.0"
  }
 },
 "nbformat": 4,
 "nbformat_minor": 2
}
