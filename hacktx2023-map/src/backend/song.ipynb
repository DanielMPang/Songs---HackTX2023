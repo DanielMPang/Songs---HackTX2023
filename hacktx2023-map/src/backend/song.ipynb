{
 "cells": [
  {
   "cell_type": "code",
   "execution_count": 1,
   "metadata": {},
   "outputs": [],
   "source": [
    "import pandas as pd"
   ]
  },
  {
   "cell_type": "code",
   "execution_count": null,
   "metadata": {},
   "outputs": [],
   "source": [
    "songs = pd.read_csv(\"../data/SpotifyTopSongsByCountry - May 2020.csv\")\n",
    "print(songs)"
   ]
  },
  {
   "cell_type": "code",
   "execution_count": 5,
   "metadata": {},
   "outputs": [
    {
     "name": "stdout",
     "output_type": "stream",
     "text": [
      "             Country      Continent  Rank                            Title  \\\n",
      "0             Global         Global     1  Rain On Me (with Ariana Grande)   \n",
      "50         Argentina  South America     1                          Colocao   \n",
      "100        Australia      Australia     1     ROCKSTAR (feat. Roddy Ricch)   \n",
      "150          Austria         Europe     1                       Roadrunner   \n",
      "200          Belgium         Europe     1                  Blinding Lights   \n",
      "...              ...            ...   ...                              ...   \n",
      "2900          Turkey         Europe     1                        Spacejump   \n",
      "2950  United Kingdom         Europe     1     ROCKSTAR (feat. Roddy Ricch)   \n",
      "3000   United States  North America     1     ROCKSTAR (feat. Roddy Ricch)   \n",
      "3050         Uruguay  South America     1                         Favorito   \n",
      "3100         Vietnam           Asia     1            em bỏ hút thuốc chưa?   \n",
      "\n",
      "                            Artists                            Album  \\\n",
      "0          Lady Gaga, Ariana Grande  Rain On Me (with Ariana Grande)   \n",
      "50                     Nicki Nicole                          Colocao   \n",
      "100             DaBaby, Roddy Ricch                 BLAME IT ON BABY   \n",
      "150                        Bonez MC                       Roadrunner   \n",
      "200                      The Weeknd                      After Hours   \n",
      "...                             ...                              ...   \n",
      "2900                           BEGE                        Spacejump   \n",
      "2950            DaBaby, Roddy Ricch                 BLAME IT ON BABY   \n",
      "3000            DaBaby, Roddy Ricch                 BLAME IT ON BABY   \n",
      "3050                         Camilo                  Por Primera Vez   \n",
      "3100  Bich Phuong, traitimtrongvang  tâm trạng tan hơi chậm một chút   \n",
      "\n",
      "      Explicit Duration  \n",
      "0            0     3:02  \n",
      "50           1     2:59  \n",
      "100          1     3:01  \n",
      "150          0     2:29  \n",
      "200          0     3:20  \n",
      "...        ...      ...  \n",
      "2900         0     1:58  \n",
      "2950         1     3:01  \n",
      "3000         1     3:01  \n",
      "3050         0     3:29  \n",
      "3100         0     3:36  \n",
      "\n",
      "[63 rows x 8 columns]\n"
     ]
    }
   ],
   "source": [
    "songs = songs[songs[\"Rank\"] == 1]\n",
    "print(songs)\n",
    "songs.to_csv(\"../data/Spotify#1SongsByCountry - May 2020.csv\", index = False)"
   ]
  }
 ],
 "metadata": {
  "kernelspec": {
   "display_name": "Python 3",
   "language": "python",
   "name": "python3"
  },
  "language_info": {
   "codemirror_mode": {
    "name": "ipython",
    "version": 3
   },
   "file_extension": ".py",
   "mimetype": "text/x-python",
   "name": "python",
   "nbconvert_exporter": "python",
   "pygments_lexer": "ipython3",
   "version": "3.12.0"
  }
 },
 "nbformat": 4,
 "nbformat_minor": 2
}
